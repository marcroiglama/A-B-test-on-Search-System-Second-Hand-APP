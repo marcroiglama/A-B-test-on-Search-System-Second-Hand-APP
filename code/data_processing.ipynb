{
 "cells": [
  {
   "cell_type": "code",
   "execution_count": 29,
   "metadata": {},
   "outputs": [],
   "source": [
    "from tqdm.notebook import tqdm\n",
    "import numpy as np\n",
    "import pandas as pd\n",
    "from IPython.display import display\n",
    "import matplotlib.pyplot as plt\n",
    "import matplotlib.ticker as mtick\n",
    "import seaborn as sns\n",
    "\n",
    "\n",
    "# MATPLOTLIB PARAMETERS\n",
    "plt.rcParams[\"figure.figsize\"] = (20, 5)\n",
    "plt.rcParams['lines.linewidth'] = 3\n",
    "plt.rcParams['lines.markersize'] = 7\n",
    "plt.rcParams[\"font.family\"] = \"DejaVu Sans\"\n",
    "plt.rcParams[\"font.size\"] = 14\n",
    "OVERALL_COLOR = \"#565656\"\n",
    "NEUTRAL_COLOR = \"#00a6e7\"\n",
    "A_COLOR = \"#f78536\"\n",
    "B_COLOR = \"#7ed3b2\"\n",
    "COLORS = [OVERALL_COLOR, A_COLOR, B_COLOR]"
   ]
  },
  {
   "cell_type": "code",
   "execution_count": 30,
   "metadata": {},
   "outputs": [],
   "source": [
    "# HELPERS\n",
    "\n",
    "def pct_style(df, columns):\n",
    "    formatting = {c: \"{:.2%}\" for c in columns}\n",
    "    return df.style.format(formatting)\n",
    "\n",
    "def pct_abstract(serie, total, name=\"\"):\n",
    "    if name:\n",
    "        serie.name = name\n",
    "    pct = (serie/total)#l*100).round(1)\n",
    "    abstract = serie.to_frame()\n",
    "    abstract[\"%\"] = pct\n",
    "    abstract = pct_style(abstract, [\"%\"])\n",
    "    return abstract\n"
   ]
  },
  {
   "cell_type": "markdown",
   "metadata": {},
   "source": [
    "### 1. READ DATA"
   ]
  },
  {
   "cell_type": "code",
   "execution_count": 31,
   "metadata": {},
   "outputs": [
    {
     "data": {
      "text/html": [
       "<div>\n",
       "<style scoped>\n",
       "    .dataframe tbody tr th:only-of-type {\n",
       "        vertical-align: middle;\n",
       "    }\n",
       "\n",
       "    .dataframe tbody tr th {\n",
       "        vertical-align: top;\n",
       "    }\n",
       "\n",
       "    .dataframe thead th {\n",
       "        text-align: right;\n",
       "    }\n",
       "</style>\n",
       "<table border=\"1\" class=\"dataframe\">\n",
       "  <thead>\n",
       "    <tr style=\"text-align: right;\">\n",
       "      <th></th>\n",
       "      <th>timestamp</th>\n",
       "      <th>session_id</th>\n",
       "      <th>group</th>\n",
       "      <th>action</th>\n",
       "      <th>checkin</th>\n",
       "      <th>page_id</th>\n",
       "      <th>n_results</th>\n",
       "      <th>result_position</th>\n",
       "      <th>day</th>\n",
       "    </tr>\n",
       "    <tr>\n",
       "      <th>uuid</th>\n",
       "      <th></th>\n",
       "      <th></th>\n",
       "      <th></th>\n",
       "      <th></th>\n",
       "      <th></th>\n",
       "      <th></th>\n",
       "      <th></th>\n",
       "      <th></th>\n",
       "      <th></th>\n",
       "    </tr>\n",
       "  </thead>\n",
       "  <tbody>\n",
       "    <tr>\n",
       "      <th>e6f9280c8df5536490eb925a91979a3b</th>\n",
       "      <td>2016-03-03 15:20:45</td>\n",
       "      <td>0000cbcb67c19c45</td>\n",
       "      <td>b</td>\n",
       "      <td>searchResultPage</td>\n",
       "      <td>NaN</td>\n",
       "      <td>fdeeb9aaf0130d41</td>\n",
       "      <td>20.0</td>\n",
       "      <td>NaN</td>\n",
       "      <td>2016-03-03</td>\n",
       "    </tr>\n",
       "    <tr>\n",
       "      <th>5b394c862bf657d98bcd25589a5247ac</th>\n",
       "      <td>2016-03-07 08:49:55</td>\n",
       "      <td>0001382e027b2ea4</td>\n",
       "      <td>b</td>\n",
       "      <td>searchResultPage</td>\n",
       "      <td>NaN</td>\n",
       "      <td>7aa28c36c03380a0</td>\n",
       "      <td>18.0</td>\n",
       "      <td>NaN</td>\n",
       "      <td>2016-03-07</td>\n",
       "    </tr>\n",
       "    <tr>\n",
       "      <th>cae3f7c7ce5d5d28b4bd6d318d962b1b</th>\n",
       "      <td>2016-03-07 08:49:58</td>\n",
       "      <td>0001382e027b2ea4</td>\n",
       "      <td>b</td>\n",
       "      <td>visitPage</td>\n",
       "      <td>NaN</td>\n",
       "      <td>f88793c95e778898</td>\n",
       "      <td>NaN</td>\n",
       "      <td>1.0</td>\n",
       "      <td>2016-03-07</td>\n",
       "    </tr>\n",
       "    <tr>\n",
       "      <th>f3e75c59c52251bb9b6585bb04284ee3</th>\n",
       "      <td>2016-03-07 08:50:08</td>\n",
       "      <td>0001382e027b2ea4</td>\n",
       "      <td>b</td>\n",
       "      <td>checkin</td>\n",
       "      <td>10.0</td>\n",
       "      <td>f88793c95e778898</td>\n",
       "      <td>NaN</td>\n",
       "      <td>1.0</td>\n",
       "      <td>2016-03-07</td>\n",
       "    </tr>\n",
       "    <tr>\n",
       "      <th>f01620582b615c03812cb1af2e804102</th>\n",
       "      <td>2016-03-07 08:50:18</td>\n",
       "      <td>0001382e027b2ea4</td>\n",
       "      <td>b</td>\n",
       "      <td>checkin</td>\n",
       "      <td>20.0</td>\n",
       "      <td>f88793c95e778898</td>\n",
       "      <td>NaN</td>\n",
       "      <td>1.0</td>\n",
       "      <td>2016-03-07</td>\n",
       "    </tr>\n",
       "    <tr>\n",
       "      <th>c6de195749b356d8ae2a03f06878fec1</th>\n",
       "      <td>2016-03-07 08:50:28</td>\n",
       "      <td>0001382e027b2ea4</td>\n",
       "      <td>b</td>\n",
       "      <td>checkin</td>\n",
       "      <td>30.0</td>\n",
       "      <td>f88793c95e778898</td>\n",
       "      <td>NaN</td>\n",
       "      <td>1.0</td>\n",
       "      <td>2016-03-07</td>\n",
       "    </tr>\n",
       "    <tr>\n",
       "      <th>dce8005fec955a1a9f3b2571d5f9866e</th>\n",
       "      <td>2016-03-07 08:50:38</td>\n",
       "      <td>0001382e027b2ea4</td>\n",
       "      <td>b</td>\n",
       "      <td>checkin</td>\n",
       "      <td>40.0</td>\n",
       "      <td>f88793c95e778898</td>\n",
       "      <td>NaN</td>\n",
       "      <td>1.0</td>\n",
       "      <td>2016-03-07</td>\n",
       "    </tr>\n",
       "    <tr>\n",
       "      <th>235b45f31d7e5afab38f4807b09a2880</th>\n",
       "      <td>2016-03-07 08:50:48</td>\n",
       "      <td>0001382e027b2ea4</td>\n",
       "      <td>b</td>\n",
       "      <td>checkin</td>\n",
       "      <td>50.0</td>\n",
       "      <td>f88793c95e778898</td>\n",
       "      <td>NaN</td>\n",
       "      <td>1.0</td>\n",
       "      <td>2016-03-07</td>\n",
       "    </tr>\n",
       "    <tr>\n",
       "      <th>fb0ae5ac2e505df28984feb1f6774172</th>\n",
       "      <td>2016-03-07 08:50:58</td>\n",
       "      <td>0001382e027b2ea4</td>\n",
       "      <td>b</td>\n",
       "      <td>checkin</td>\n",
       "      <td>60.0</td>\n",
       "      <td>f88793c95e778898</td>\n",
       "      <td>NaN</td>\n",
       "      <td>1.0</td>\n",
       "      <td>2016-03-07</td>\n",
       "    </tr>\n",
       "    <tr>\n",
       "      <th>fa6a1974487154aa95ddb93d8d5d3734</th>\n",
       "      <td>2016-03-07 08:51:28</td>\n",
       "      <td>0001382e027b2ea4</td>\n",
       "      <td>b</td>\n",
       "      <td>checkin</td>\n",
       "      <td>90.0</td>\n",
       "      <td>f88793c95e778898</td>\n",
       "      <td>NaN</td>\n",
       "      <td>1.0</td>\n",
       "      <td>2016-03-07</td>\n",
       "    </tr>\n",
       "  </tbody>\n",
       "</table>\n",
       "</div>"
      ],
      "text/plain": [
       "                                           timestamp        session_id group  \\\n",
       "uuid                                                                           \n",
       "e6f9280c8df5536490eb925a91979a3b 2016-03-03 15:20:45  0000cbcb67c19c45     b   \n",
       "5b394c862bf657d98bcd25589a5247ac 2016-03-07 08:49:55  0001382e027b2ea4     b   \n",
       "cae3f7c7ce5d5d28b4bd6d318d962b1b 2016-03-07 08:49:58  0001382e027b2ea4     b   \n",
       "f3e75c59c52251bb9b6585bb04284ee3 2016-03-07 08:50:08  0001382e027b2ea4     b   \n",
       "f01620582b615c03812cb1af2e804102 2016-03-07 08:50:18  0001382e027b2ea4     b   \n",
       "c6de195749b356d8ae2a03f06878fec1 2016-03-07 08:50:28  0001382e027b2ea4     b   \n",
       "dce8005fec955a1a9f3b2571d5f9866e 2016-03-07 08:50:38  0001382e027b2ea4     b   \n",
       "235b45f31d7e5afab38f4807b09a2880 2016-03-07 08:50:48  0001382e027b2ea4     b   \n",
       "fb0ae5ac2e505df28984feb1f6774172 2016-03-07 08:50:58  0001382e027b2ea4     b   \n",
       "fa6a1974487154aa95ddb93d8d5d3734 2016-03-07 08:51:28  0001382e027b2ea4     b   \n",
       "\n",
       "                                            action  checkin           page_id  \\\n",
       "uuid                                                                            \n",
       "e6f9280c8df5536490eb925a91979a3b  searchResultPage      NaN  fdeeb9aaf0130d41   \n",
       "5b394c862bf657d98bcd25589a5247ac  searchResultPage      NaN  7aa28c36c03380a0   \n",
       "cae3f7c7ce5d5d28b4bd6d318d962b1b         visitPage      NaN  f88793c95e778898   \n",
       "f3e75c59c52251bb9b6585bb04284ee3           checkin     10.0  f88793c95e778898   \n",
       "f01620582b615c03812cb1af2e804102           checkin     20.0  f88793c95e778898   \n",
       "c6de195749b356d8ae2a03f06878fec1           checkin     30.0  f88793c95e778898   \n",
       "dce8005fec955a1a9f3b2571d5f9866e           checkin     40.0  f88793c95e778898   \n",
       "235b45f31d7e5afab38f4807b09a2880           checkin     50.0  f88793c95e778898   \n",
       "fb0ae5ac2e505df28984feb1f6774172           checkin     60.0  f88793c95e778898   \n",
       "fa6a1974487154aa95ddb93d8d5d3734           checkin     90.0  f88793c95e778898   \n",
       "\n",
       "                                  n_results  result_position        day  \n",
       "uuid                                                                     \n",
       "e6f9280c8df5536490eb925a91979a3b       20.0              NaN 2016-03-03  \n",
       "5b394c862bf657d98bcd25589a5247ac       18.0              NaN 2016-03-07  \n",
       "cae3f7c7ce5d5d28b4bd6d318d962b1b        NaN              1.0 2016-03-07  \n",
       "f3e75c59c52251bb9b6585bb04284ee3        NaN              1.0 2016-03-07  \n",
       "f01620582b615c03812cb1af2e804102        NaN              1.0 2016-03-07  \n",
       "c6de195749b356d8ae2a03f06878fec1        NaN              1.0 2016-03-07  \n",
       "dce8005fec955a1a9f3b2571d5f9866e        NaN              1.0 2016-03-07  \n",
       "235b45f31d7e5afab38f4807b09a2880        NaN              1.0 2016-03-07  \n",
       "fb0ae5ac2e505df28984feb1f6774172        NaN              1.0 2016-03-07  \n",
       "fa6a1974487154aa95ddb93d8d5d3734        NaN              1.0 2016-03-07  "
      ]
     },
     "execution_count": 31,
     "metadata": {},
     "output_type": "execute_result"
    }
   ],
   "source": [
    "df = pd.read_csv(\"events_log.csv\").set_index(\"uuid\")\n",
    "df[\"timestamp\"] = pd.to_datetime(df[\"timestamp\"], format=\"%Y%m%d%H%M%S\")\n",
    "df[\"day\"] = df[\"timestamp\"].dt.floor(\"d\")\n",
    "df = df.sort_values(by=[\"session_id\", \"timestamp\"])\n",
    "df.head(10)"
   ]
  },
  {
   "cell_type": "code",
   "execution_count": 32,
   "metadata": {},
   "outputs": [
    {
     "name": "stdout",
     "output_type": "stream",
     "text": [
      "Number of events:  400165\n"
     ]
    }
   ],
   "source": [
    "records = len(df)\n",
    "print(\"Number of events: \", records)"
   ]
  },
  {
   "cell_type": "markdown",
   "metadata": {},
   "source": [
    "### 2. CLEAN DATA"
   ]
  },
  {
   "cell_type": "code",
   "execution_count": 33,
   "metadata": {},
   "outputs": [
    {
     "name": "stdout",
     "output_type": "stream",
     "text": [
      "Number of events: 394137 after filtering.\n"
     ]
    }
   ],
   "source": [
    "# Drop Visit Page longs without result position since are weird events that break checkin events.\n",
    "df = df[~((df[\"action\"] == \"visitPage\") & (df[\"result_position\"].isna()))]\n",
    "\n",
    "records = len(df)\n",
    "print(f\"Number of events: {records} after filtering.\")"
   ]
  },
  {
   "cell_type": "code",
   "execution_count": 34,
   "metadata": {},
   "outputs": [
    {
     "name": "stdout",
     "output_type": "stream",
     "text": [
      "Remove 99 sessions where the links visited are greater than the results of the search.\n",
      "Number of events: 391247 after filtering.\n"
     ]
    }
   ],
   "source": [
    "# Drop sessions where the links visited are greater that the results of the search itself.\n",
    "max_results_by_session = df.groupby(\"session_id\")[[\"n_results\", \"result_position\"]].max()\n",
    "result_position_gt_n_results = max_results_by_session[max_results_by_session[\"result_position\"] > max_results_by_session[\"n_results\"]].index\n",
    "df = df[~df[\"session_id\"].isin(result_position_gt_n_results)]\n",
    "\n",
    "print(f\"Remove {len(result_position_gt_n_results)} sessions where the links visited are greater than the results of the search.\")\n",
    "records = len(df)\n",
    "print(f\"Number of events: {records} after filtering.\")"
   ]
  },
  {
   "cell_type": "code",
   "execution_count": 35,
   "metadata": {
    "scrolled": true
   },
   "outputs": [
    {
     "data": {
      "application/vnd.jupyter.widget-view+json": {
       "model_id": "78899069eff3494c956c13d3306e8142",
       "version_major": 2,
       "version_minor": 0
      },
      "text/plain": [
       "  0%|          | 0/391247 [00:00<?, ?it/s]"
      ]
     },
     "metadata": {},
     "output_type": "display_data"
    },
    {
     "name": "stdout",
     "output_type": "stream",
     "text": [
      "Number of events: 197194 after filtering.\n"
     ]
    }
   ],
   "source": [
    "# Only keep the last checkin continous event for every session since it summarizes the time spend on \"checkin\" status and reduce dataframe size a lot.\n",
    "\n",
    "def detect_last_checkin(action, next_action, session_id, next_session_id):\n",
    "    is_last_checkin = False\n",
    "    if session_id == next_session_id:\n",
    "        if (action == \"checkin\") & ( next_action != \"checkin\"):\n",
    "            is_last_checkin = True\n",
    "    else:\n",
    "        if action == \"checkin\":\n",
    "            is_last_checkin = True\n",
    "            \n",
    "    return is_last_checkin\n",
    "\n",
    "\n",
    "last_checkin_row = []\n",
    "past_row = df.iloc[1]\n",
    "for index, row in tqdm(df.iloc[1:].iterrows(), total=len(df)):\n",
    "    current_row = row\n",
    "    last_checkin_row.append(detect_last_checkin(past_row['action'], current_row['action'], past_row['session_id'], current_row['session_id']))\n",
    "    past_row = current_row\n",
    "# HANDLE LAST ROW IS A CHECKIN ACTION \n",
    "last_checkin_row.append(True if current_row['action'] == \"checkin\" else False)\n",
    "\n",
    "# FILTER\n",
    "df[\"is_last_checkin\"] = last_checkin_row\n",
    "df = df[((df[\"is_last_checkin\"] == True) | (df[\"action\"] != \"checkin\"))]\n",
    "\n",
    "records = len(df)\n",
    "print(f\"Number of events: {records} after filtering.\")"
   ]
  },
  {
   "cell_type": "markdown",
   "metadata": {},
   "source": [
    "### 3. DATA ANALYSIS"
   ]
  },
  {
   "cell_type": "code",
   "execution_count": 36,
   "metadata": {},
   "outputs": [
    {
     "name": "stdout",
     "output_type": "stream",
     "text": [
      "first event: 2016-03-01 00:00:01\n",
      "last even: 2016-03-08 20:24:32\n"
     ]
    },
    {
     "data": {
      "image/png": "[encoded data removed]",
      "text/plain": [
       "<Figure size 1440x360 with 1 Axes>"
      ]
     },
     "metadata": {
      "needs_background": "light"
     },
     "output_type": "display_data"
    }
   ],
   "source": [
    "print(\"first event:\", df[\"timestamp\"].min())\n",
    "print(\"last even:\", df[\"timestamp\"].max())\n",
    "\n",
    "daily_events = df.groupby(df[\"timestamp\"].dt.floor(\"d\"))[\"timestamp\"].count()\n",
    "daily_events.index = daily_events.index.astype(str)\n",
    "daily_events.plot(kind=\"bar\", color=NEUTRAL_COLOR)\n",
    "plt.ylabel(\"Number of Events\")\n",
    "plt.show()"
   ]
  },
  {
   "cell_type": "code",
   "execution_count": 37,
   "metadata": {},
   "outputs": [
    {
     "data": {
      "text/html": [
       "<style  type=\"text/css\" >\n",
       "</style><table id=\"T_64634_\" ><thead>    <tr>        <th class=\"blank level0\" ></th>        <th class=\"col_heading level0 col0\" >NULLS</th>        <th class=\"col_heading level0 col1\" >%</th>    </tr></thead><tbody>\n",
       "                <tr>\n",
       "                        <th id=\"T_64634_level0_row0\" class=\"row_heading level0 row0\" >timestamp</th>\n",
       "                        <td id=\"T_64634_row0_col0\" class=\"data row0 col0\" >0</td>\n",
       "                        <td id=\"T_64634_row0_col1\" class=\"data row0 col1\" >0.00%</td>\n",
       "            </tr>\n",
       "            <tr>\n",
       "                        <th id=\"T_64634_level0_row1\" class=\"row_heading level0 row1\" >session_id</th>\n",
       "                        <td id=\"T_64634_row1_col0\" class=\"data row1 col0\" >0</td>\n",
       "                        <td id=\"T_64634_row1_col1\" class=\"data row1 col1\" >0.00%</td>\n",
       "            </tr>\n",
       "            <tr>\n",
       "                        <th id=\"T_64634_level0_row2\" class=\"row_heading level0 row2\" >group</th>\n",
       "                        <td id=\"T_64634_row2_col0\" class=\"data row2 col0\" >0</td>\n",
       "                        <td id=\"T_64634_row2_col1\" class=\"data row2 col1\" >0.00%</td>\n",
       "            </tr>\n",
       "            <tr>\n",
       "                        <th id=\"T_64634_level0_row3\" class=\"row_heading level0 row3\" >action</th>\n",
       "                        <td id=\"T_64634_row3_col0\" class=\"data row3 col0\" >0</td>\n",
       "                        <td id=\"T_64634_row3_col1\" class=\"data row3 col1\" >0.00%</td>\n",
       "            </tr>\n",
       "            <tr>\n",
       "                        <th id=\"T_64634_level0_row4\" class=\"row_heading level0 row4\" >checkin</th>\n",
       "                        <td id=\"T_64634_row4_col0\" class=\"data row4 col0\" >168770</td>\n",
       "                        <td id=\"T_64634_row4_col1\" class=\"data row4 col1\" >85.59%</td>\n",
       "            </tr>\n",
       "            <tr>\n",
       "                        <th id=\"T_64634_level0_row5\" class=\"row_heading level0 row5\" >page_id</th>\n",
       "                        <td id=\"T_64634_row5_col0\" class=\"data row5 col0\" >0</td>\n",
       "                        <td id=\"T_64634_row5_col1\" class=\"data row5 col1\" >0.00%</td>\n",
       "            </tr>\n",
       "            <tr>\n",
       "                        <th id=\"T_64634_level0_row6\" class=\"row_heading level0 row6\" >n_results</th>\n",
       "                        <td id=\"T_64634_row6_col0\" class=\"data row6 col0\" >61996</td>\n",
       "                        <td id=\"T_64634_row6_col1\" class=\"data row6 col1\" >31.44%</td>\n",
       "            </tr>\n",
       "            <tr>\n",
       "                        <th id=\"T_64634_level0_row7\" class=\"row_heading level0 row7\" >result_position</th>\n",
       "                        <td id=\"T_64634_row7_col0\" class=\"data row7 col0\" >138154</td>\n",
       "                        <td id=\"T_64634_row7_col1\" class=\"data row7 col1\" >70.06%</td>\n",
       "            </tr>\n",
       "            <tr>\n",
       "                        <th id=\"T_64634_level0_row8\" class=\"row_heading level0 row8\" >day</th>\n",
       "                        <td id=\"T_64634_row8_col0\" class=\"data row8 col0\" >0</td>\n",
       "                        <td id=\"T_64634_row8_col1\" class=\"data row8 col1\" >0.00%</td>\n",
       "            </tr>\n",
       "            <tr>\n",
       "                        <th id=\"T_64634_level0_row9\" class=\"row_heading level0 row9\" >is_last_checkin</th>\n",
       "                        <td id=\"T_64634_row9_col0\" class=\"data row9 col0\" >0</td>\n",
       "                        <td id=\"T_64634_row9_col1\" class=\"data row9 col1\" >0.00%</td>\n",
       "            </tr>\n",
       "    </tbody></table>"
      ],
      "text/plain": [
       "<pandas.io.formats.style.Styler at 0x7f70d2fb7f50>"
      ]
     },
     "metadata": {},
     "output_type": "display_data"
    }
   ],
   "source": [
    "display(pct_abstract(df.isna().sum(), records, name=\"NULLS\"))"
   ]
  },
  {
   "cell_type": "code",
   "execution_count": 38,
   "metadata": {},
   "outputs": [
    {
     "name": "stdout",
     "output_type": "stream",
     "text": [
      "distinct user sessions: 67927 (34.4%)\n",
      "distinct page ids: 171735 (34.4%)\n"
     ]
    },
    {
     "data": {
      "text/html": [
       "<style  type=\"text/css\" >\n",
       "</style><table id=\"T_28b95_\" ><thead>    <tr>        <th class=\"blank level0\" ></th>        <th class=\"col_heading level0 col0\" >action</th>        <th class=\"col_heading level0 col1\" >%</th>    </tr></thead><tbody>\n",
       "                <tr>\n",
       "                        <th id=\"T_28b95_level0_row0\" class=\"row_heading level0 row0\" >searchResultPage</th>\n",
       "                        <td id=\"T_28b95_row0_col0\" class=\"data row0 col0\" >135198</td>\n",
       "                        <td id=\"T_28b95_row0_col1\" class=\"data row0 col1\" >68.56%</td>\n",
       "            </tr>\n",
       "            <tr>\n",
       "                        <th id=\"T_28b95_level0_row1\" class=\"row_heading level0 row1\" >visitPage</th>\n",
       "                        <td id=\"T_28b95_row1_col0\" class=\"data row1 col0\" >33572</td>\n",
       "                        <td id=\"T_28b95_row1_col1\" class=\"data row1 col1\" >17.02%</td>\n",
       "            </tr>\n",
       "            <tr>\n",
       "                        <th id=\"T_28b95_level0_row2\" class=\"row_heading level0 row2\" >checkin</th>\n",
       "                        <td id=\"T_28b95_row2_col0\" class=\"data row2 col0\" >28424</td>\n",
       "                        <td id=\"T_28b95_row2_col1\" class=\"data row2 col1\" >14.41%</td>\n",
       "            </tr>\n",
       "    </tbody></table>"
      ],
      "text/plain": [
       "<pandas.io.formats.style.Styler at 0x7f7048c966d0>"
      ]
     },
     "metadata": {},
     "output_type": "display_data"
    },
    {
     "data": {
      "text/html": [
       "<style  type=\"text/css\" >\n",
       "</style><table id=\"T_02542_\" ><thead>    <tr>        <th class=\"blank level0\" ></th>        <th class=\"col_heading level0 col0\" >group</th>        <th class=\"col_heading level0 col1\" >%</th>    </tr></thead><tbody>\n",
       "                <tr>\n",
       "                        <th id=\"T_02542_level0_row0\" class=\"row_heading level0 row0\" >b</th>\n",
       "                        <td id=\"T_02542_row0_col0\" class=\"data row0 col0\" >38593</td>\n",
       "                        <td id=\"T_02542_row0_col1\" class=\"data row0 col1\" >56.82%</td>\n",
       "            </tr>\n",
       "            <tr>\n",
       "                        <th id=\"T_02542_level0_row1\" class=\"row_heading level0 row1\" >a</th>\n",
       "                        <td id=\"T_02542_row1_col0\" class=\"data row1 col0\" >29334</td>\n",
       "                        <td id=\"T_02542_row1_col1\" class=\"data row1 col1\" >43.18%</td>\n",
       "            </tr>\n",
       "    </tbody></table>"
      ],
      "text/plain": [
       "<pandas.io.formats.style.Styler at 0x7f7048864ed0>"
      ]
     },
     "metadata": {},
     "output_type": "display_data"
    }
   ],
   "source": [
    "unique_sessions = df['session_id'].nunique()\n",
    "unique_sessions_pct = round(unique_sessions/len(df)*100, 1)\n",
    "print(f\"distinct user sessions: {unique_sessions} ({unique_sessions_pct}%)\")\n",
    "\n",
    "unique_pages = df['page_id'].nunique()\n",
    "unique_pages_pct = round(unique_sessions/len(df)*100, 1)\n",
    "print(f\"distinct page ids: {unique_pages} ({unique_pages_pct}%)\")\n",
    "\n",
    "display(pct_abstract(df[\"action\"].value_counts(), records))\n",
    "display(pct_abstract(df.groupby(\"session_id\")[\"group\"].first().value_counts(), unique_sessions))"
   ]
  },
  {
   "cell_type": "markdown",
   "metadata": {},
   "source": [
    "### 4. clickthrough rate (CTR)"
   ]
  },
  {
   "cell_type": "code",
   "execution_count": 39,
   "metadata": {},
   "outputs": [
    {
     "name": "stdout",
     "output_type": "stream",
     "text": [
      "CTR group A: 29.46%\n",
      "CTR group B: 15.29%\n",
      "CTR group OVERALL: 24.83%\n"
     ]
    }
   ],
   "source": [
    "def general_ctr(df):\n",
    "    total_visited = (df[\"action\"] == \"visitPage\").sum()\n",
    "    total_searches = (df[\"action\"] == \"searchResultPage\").sum()\n",
    "    \n",
    "    ctr = total_visited/total_searches\n",
    "    return round(ctr, 4)\n",
    "\n",
    "ctr_a = general_ctr(df[df[\"group\"]==\"a\"])\n",
    "ctr_b = general_ctr(df[df[\"group\"]==\"b\"])\n",
    "ctr_overall = general_ctr(df)\n",
    "\n",
    "print(f\"CTR group A: {ctr_a:.2%}\")\n",
    "print(f\"CTR group B: {ctr_b:.2%}\", )\n",
    "print(f\"CTR group OVERALL: {ctr_overall:.2%}\")"
   ]
  },
  {
   "cell_type": "code",
   "execution_count": 40,
   "metadata": {},
   "outputs": [
    {
     "data": {
      "text/html": [
       "<style  type=\"text/css\" >\n",
       "</style><table id=\"T_24652_\" ><thead>    <tr>        <th class=\"blank level0\" ></th>        <th class=\"col_heading level0 col0\" >overall</th>        <th class=\"col_heading level0 col1\" >a</th>        <th class=\"col_heading level0 col2\" >b</th>    </tr>    <tr>        <th class=\"index_name level0\" >day</th>        <th class=\"blank\" ></th>        <th class=\"blank\" ></th>        <th class=\"blank\" ></th>    </tr></thead><tbody>\n",
       "                <tr>\n",
       "                        <th id=\"T_24652_level0_row0\" class=\"row_heading level0 row0\" >2016-03-01 00:00:00</th>\n",
       "                        <td id=\"T_24652_row0_col0\" class=\"data row0 col0\" >24.26%</td>\n",
       "                        <td id=\"T_24652_row0_col1\" class=\"data row0 col1\" >29.94%</td>\n",
       "                        <td id=\"T_24652_row0_col2\" class=\"data row0 col2\" >12.05%</td>\n",
       "            </tr>\n",
       "            <tr>\n",
       "                        <th id=\"T_24652_level0_row1\" class=\"row_heading level0 row1\" >2016-03-02 00:00:00</th>\n",
       "                        <td id=\"T_24652_row1_col0\" class=\"data row1 col0\" >24.27%</td>\n",
       "                        <td id=\"T_24652_row1_col1\" class=\"data row1 col1\" >29.25%</td>\n",
       "                        <td id=\"T_24652_row1_col2\" class=\"data row1 col2\" >12.77%</td>\n",
       "            </tr>\n",
       "            <tr>\n",
       "                        <th id=\"T_24652_level0_row2\" class=\"row_heading level0 row2\" >2016-03-03 00:00:00</th>\n",
       "                        <td id=\"T_24652_row2_col0\" class=\"data row2 col0\" >24.89%</td>\n",
       "                        <td id=\"T_24652_row2_col1\" class=\"data row2 col1\" >30.12%</td>\n",
       "                        <td id=\"T_24652_row2_col2\" class=\"data row2 col2\" >13.27%</td>\n",
       "            </tr>\n",
       "            <tr>\n",
       "                        <th id=\"T_24652_level0_row3\" class=\"row_heading level0 row3\" >2016-03-04 00:00:00</th>\n",
       "                        <td id=\"T_24652_row3_col0\" class=\"data row3 col0\" >25.48%</td>\n",
       "                        <td id=\"T_24652_row3_col1\" class=\"data row3 col1\" >29.65%</td>\n",
       "                        <td id=\"T_24652_row3_col2\" class=\"data row3 col2\" >16.96%</td>\n",
       "            </tr>\n",
       "            <tr>\n",
       "                        <th id=\"T_24652_level0_row4\" class=\"row_heading level0 row4\" >2016-03-05 00:00:00</th>\n",
       "                        <td id=\"T_24652_row4_col0\" class=\"data row4 col0\" >25.09%</td>\n",
       "                        <td id=\"T_24652_row4_col1\" class=\"data row4 col1\" >29.10%</td>\n",
       "                        <td id=\"T_24652_row4_col2\" class=\"data row4 col2\" >17.60%</td>\n",
       "            </tr>\n",
       "            <tr>\n",
       "                        <th id=\"T_24652_level0_row5\" class=\"row_heading level0 row5\" >2016-03-06 00:00:00</th>\n",
       "                        <td id=\"T_24652_row5_col0\" class=\"data row5 col0\" >25.63%</td>\n",
       "                        <td id=\"T_24652_row5_col1\" class=\"data row5 col1\" >30.53%</td>\n",
       "                        <td id=\"T_24652_row5_col2\" class=\"data row5 col2\" >16.66%</td>\n",
       "            </tr>\n",
       "            <tr>\n",
       "                        <th id=\"T_24652_level0_row6\" class=\"row_heading level0 row6\" >2016-03-07 00:00:00</th>\n",
       "                        <td id=\"T_24652_row6_col0\" class=\"data row6 col0\" >24.69%</td>\n",
       "                        <td id=\"T_24652_row6_col1\" class=\"data row6 col1\" >28.29%</td>\n",
       "                        <td id=\"T_24652_row6_col2\" class=\"data row6 col2\" >17.49%</td>\n",
       "            </tr>\n",
       "            <tr>\n",
       "                        <th id=\"T_24652_level0_row7\" class=\"row_heading level0 row7\" >2016-03-08 00:00:00</th>\n",
       "                        <td id=\"T_24652_row7_col0\" class=\"data row7 col0\" >24.65%</td>\n",
       "                        <td id=\"T_24652_row7_col1\" class=\"data row7 col1\" >28.91%</td>\n",
       "                        <td id=\"T_24652_row7_col2\" class=\"data row7 col2\" >16.11%</td>\n",
       "            </tr>\n",
       "    </tbody></table>"
      ],
      "text/plain": [
       "<pandas.io.formats.style.Styler at 0x7f7048a0e210>"
      ]
     },
     "metadata": {},
     "output_type": "display_data"
    },
    {
     "data": {
      "image/png": "[encoded data removed]",
      "text/plain": [
       "<Figure size 1440x360 with 1 Axes>"
      ]
     },
     "metadata": {
      "needs_background": "light"
     },
     "output_type": "display_data"
    }
   ],
   "source": [
    "def daily_ctr(df):\n",
    "    visited_daily = df[(df[\"action\"] == \"visitPage\")].groupby(\"day\")[\"action\"].count()\n",
    "    search_daily = df[(df[\"action\"] == \"searchResultPage\")].groupby(\"day\")[\"action\"].count()\n",
    "    ctr_rate_daily = (visited_daily/search_daily)\n",
    "    return ctr_rate_daily\n",
    "\n",
    "ctr_rate_daily = daily_ctr(df)\n",
    "ctr_rate_daily_a = daily_ctr(df[df[\"group\"]==\"a\"])\n",
    "ctr_rate_daily_b = daily_ctr(df[df[\"group\"]==\"b\"])\n",
    "\n",
    "df_ctr = ctr_rate_daily.to_frame()\n",
    "df_ctr.columns = [\"overall\"]\n",
    "df_ctr[\"a\"] = pd.DataFrame(ctr_rate_daily_a)\n",
    "df_ctr[\"b\"] = pd.DataFrame(ctr_rate_daily_b)\n",
    "\n",
    "display(pct_style(df_ctr, df_ctr.columns))\n",
    "ax = (df_ctr*100).plot(color=COLORS, marker=\"o\", markeredgecolor=\"black\",markerfacecolor=\"w\")\n",
    "ax.yaxis.set_major_formatter(mtick.PercentFormatter())\n",
    "plt.ylim((0, 40))\n",
    "plt.show()"
   ]
  },
  {
   "cell_type": "code",
   "execution_count": 41,
   "metadata": {},
   "outputs": [
    {
     "name": "stdout",
     "output_type": "stream",
     "text": [
      "MEAN DAILY CTR\n"
     ]
    },
    {
     "data": {
      "text/html": [
       "<style  type=\"text/css\" >\n",
       "</style><table id=\"T_0d7e1_\" ><thead>    <tr>        <th class=\"blank level0\" ></th>        <th class=\"col_heading level0 col0\" >mean daily CTR</th>    </tr></thead><tbody>\n",
       "                <tr>\n",
       "                        <th id=\"T_0d7e1_level0_row0\" class=\"row_heading level0 row0\" >overall</th>\n",
       "                        <td id=\"T_0d7e1_row0_col0\" class=\"data row0 col0\" >24.87%</td>\n",
       "            </tr>\n",
       "            <tr>\n",
       "                        <th id=\"T_0d7e1_level0_row1\" class=\"row_heading level0 row1\" >a</th>\n",
       "                        <td id=\"T_0d7e1_row1_col0\" class=\"data row1 col0\" >29.47%</td>\n",
       "            </tr>\n",
       "            <tr>\n",
       "                        <th id=\"T_0d7e1_level0_row2\" class=\"row_heading level0 row2\" >b</th>\n",
       "                        <td id=\"T_0d7e1_row2_col0\" class=\"data row2 col0\" >15.37%</td>\n",
       "            </tr>\n",
       "    </tbody></table>"
      ],
      "text/plain": [
       "<pandas.io.formats.style.Styler at 0x7f7048a8a310>"
      ]
     },
     "metadata": {},
     "output_type": "display_data"
    },
    {
     "data": {
      "image/png": "[encoded data removed]",
      "text/plain": [
       "<Figure size 1440x360 with 1 Axes>"
      ]
     },
     "metadata": {
      "needs_background": "light"
     },
     "output_type": "display_data"
    }
   ],
   "source": [
    "print(\"MEAN DAILY CTR\")\n",
    "df_ctr_mean = df_ctr.mean() \n",
    "df_ctr_mean.name = \"mean daily CTR\"\n",
    "df_ctr_mean = df_ctr_mean.to_frame()\n",
    "display(pct_style(df_ctr_mean, df_ctr_mean.columns))\n",
    "ax = (df_ctr_mean[\"mean daily CTR\"]*100).plot(kind=\"barh\", color=COLORS, rot=0)\n",
    "ax.xaxis.set_major_formatter(mtick.PercentFormatter())\n",
    "plt.show()"
   ]
  },
  {
   "cell_type": "markdown",
   "metadata": {},
   "source": [
    "### What is our daily overall clickthrough rate? \n",
    "The daily overall ctr is 24.87%, so more than 1 quarter of the users that search is actually accessing to the any result\n",
    "\n",
    "### How does it vary between the groups?\n",
    "The control group A is outperforming (+14% on average) the group B.\n"
   ]
  },
  {
   "cell_type": "markdown",
   "metadata": {},
   "source": [
    "### 5. RESULT VISITED "
   ]
  },
  {
   "cell_type": "code",
   "execution_count": 42,
   "metadata": {},
   "outputs": [
    {
     "data": {
      "text/html": [
       "<div>\n",
       "<style scoped>\n",
       "    .dataframe tbody tr th:only-of-type {\n",
       "        vertical-align: middle;\n",
       "    }\n",
       "\n",
       "    .dataframe tbody tr th {\n",
       "        vertical-align: top;\n",
       "    }\n",
       "\n",
       "    .dataframe thead th {\n",
       "        text-align: right;\n",
       "    }\n",
       "</style>\n",
       "<table border=\"1\" class=\"dataframe\">\n",
       "  <thead>\n",
       "    <tr style=\"text-align: right;\">\n",
       "      <th></th>\n",
       "      <th>result_position</th>\n",
       "    </tr>\n",
       "  </thead>\n",
       "  <tbody>\n",
       "    <tr>\n",
       "      <th>1.0</th>\n",
       "      <td>0.671259</td>\n",
       "    </tr>\n",
       "    <tr>\n",
       "      <th>2.0</th>\n",
       "      <td>0.808304</td>\n",
       "    </tr>\n",
       "    <tr>\n",
       "      <th>3.0</th>\n",
       "      <td>0.877604</td>\n",
       "    </tr>\n",
       "    <tr>\n",
       "      <th>4.0</th>\n",
       "      <td>0.913887</td>\n",
       "    </tr>\n",
       "    <tr>\n",
       "      <th>5.0</th>\n",
       "      <td>0.935595</td>\n",
       "    </tr>\n",
       "    <tr>\n",
       "      <th>6.0</th>\n",
       "      <td>0.951573</td>\n",
       "    </tr>\n",
       "    <tr>\n",
       "      <th>7.0</th>\n",
       "      <td>0.961630</td>\n",
       "    </tr>\n",
       "    <tr>\n",
       "      <th>8.0</th>\n",
       "      <td>0.968120</td>\n",
       "    </tr>\n",
       "    <tr>\n",
       "      <th>9.0</th>\n",
       "      <td>0.973206</td>\n",
       "    </tr>\n",
       "    <tr>\n",
       "      <th>10.0</th>\n",
       "      <td>0.978026</td>\n",
       "    </tr>\n",
       "    <tr>\n",
       "      <th>11.0</th>\n",
       "      <td>0.981555</td>\n",
       "    </tr>\n",
       "    <tr>\n",
       "      <th>12.0</th>\n",
       "      <td>0.984895</td>\n",
       "    </tr>\n",
       "    <tr>\n",
       "      <th>13.0</th>\n",
       "      <td>0.987476</td>\n",
       "    </tr>\n",
       "    <tr>\n",
       "      <th>14.0</th>\n",
       "      <td>0.989525</td>\n",
       "    </tr>\n",
       "    <tr>\n",
       "      <th>15.0</th>\n",
       "      <td>0.991423</td>\n",
       "    </tr>\n",
       "    <tr>\n",
       "      <th>16.0</th>\n",
       "      <td>0.992675</td>\n",
       "    </tr>\n",
       "    <tr>\n",
       "      <th>17.0</th>\n",
       "      <td>0.994155</td>\n",
       "    </tr>\n",
       "    <tr>\n",
       "      <th>18.0</th>\n",
       "      <td>0.995825</td>\n",
       "    </tr>\n",
       "    <tr>\n",
       "      <th>19.0</th>\n",
       "      <td>0.997685</td>\n",
       "    </tr>\n",
       "    <tr>\n",
       "      <th>20.0</th>\n",
       "      <td>0.999583</td>\n",
       "    </tr>\n",
       "    <tr>\n",
       "      <th>30.0</th>\n",
       "      <td>0.999620</td>\n",
       "    </tr>\n",
       "    <tr>\n",
       "      <th>32.0</th>\n",
       "      <td>0.999658</td>\n",
       "    </tr>\n",
       "    <tr>\n",
       "      <th>36.0</th>\n",
       "      <td>0.999696</td>\n",
       "    </tr>\n",
       "    <tr>\n",
       "      <th>41.0</th>\n",
       "      <td>0.999734</td>\n",
       "    </tr>\n",
       "    <tr>\n",
       "      <th>43.0</th>\n",
       "      <td>0.999772</td>\n",
       "    </tr>\n",
       "    <tr>\n",
       "      <th>65.0</th>\n",
       "      <td>0.999810</td>\n",
       "    </tr>\n",
       "    <tr>\n",
       "      <th>73.0</th>\n",
       "      <td>0.999848</td>\n",
       "    </tr>\n",
       "    <tr>\n",
       "      <th>76.0</th>\n",
       "      <td>0.999886</td>\n",
       "    </tr>\n",
       "    <tr>\n",
       "      <th>123.0</th>\n",
       "      <td>0.999924</td>\n",
       "    </tr>\n",
       "    <tr>\n",
       "      <th>141.0</th>\n",
       "      <td>1.000000</td>\n",
       "    </tr>\n",
       "  </tbody>\n",
       "</table>\n",
       "</div>"
      ],
      "text/plain": [
       "       result_position\n",
       "1.0           0.671259\n",
       "2.0           0.808304\n",
       "3.0           0.877604\n",
       "4.0           0.913887\n",
       "5.0           0.935595\n",
       "6.0           0.951573\n",
       "7.0           0.961630\n",
       "8.0           0.968120\n",
       "9.0           0.973206\n",
       "10.0          0.978026\n",
       "11.0          0.981555\n",
       "12.0          0.984895\n",
       "13.0          0.987476\n",
       "14.0          0.989525\n",
       "15.0          0.991423\n",
       "16.0          0.992675\n",
       "17.0          0.994155\n",
       "18.0          0.995825\n",
       "19.0          0.997685\n",
       "20.0          0.999583\n",
       "30.0          0.999620\n",
       "32.0          0.999658\n",
       "36.0          0.999696\n",
       "41.0          0.999734\n",
       "43.0          0.999772\n",
       "65.0          0.999810\n",
       "73.0          0.999848\n",
       "76.0          0.999886\n",
       "123.0         0.999924\n",
       "141.0         1.000000"
      ]
     },
     "metadata": {},
     "output_type": "display_data"
    },
    {
     "data": {
      "image/png": "[encoded data removed]",
      "text/plain": [
       "<Figure size 1440x360 with 1 Axes>"
      ]
     },
     "metadata": {
      "needs_background": "light"
     },
     "output_type": "display_data"
    }
   ],
   "source": [
    "first_visited_page = df[df[\"action\"] == \"visitPage\"].sort_values(by=[\"session_id\", \"timestamp\"]).groupby(\"session_id\").first()[\"result_position\"]\n",
    "\n",
    "# accumulated probability to visit link\n",
    "first_visited_page_cumsum = (first_visited_page.value_counts()/ len(first_visited_page)).sort_index().cumsum()\n",
    "display(first_visited_page_cumsum.to_frame())\n",
    "\n",
    "# PLOT\n",
    "(first_visited_page_cumsum*100).plot(color=OVERALL_COLOR)\n",
    "ax = (first_visited_page_cumsum[first_visited_page_cumsum < 0.99]*100).plot(color=NEUTRAL_COLOR)\n",
    "ax.yaxis.set_major_formatter(mtick.PercentFormatter())\n",
    "plt.legend([\"accumulated visits\", \"99% of the visits\"])\n",
    "plt.ylabel(\"% of visits\")\n",
    "plt.xlabel(\"Position of visited link\")\n",
    "plt.show()"
   ]
  },
  {
   "cell_type": "code",
   "execution_count": 43,
   "metadata": {},
   "outputs": [
    {
     "data": {
      "text/html": [
       "<div>\n",
       "<style scoped>\n",
       "    .dataframe tbody tr th:only-of-type {\n",
       "        vertical-align: middle;\n",
       "    }\n",
       "\n",
       "    .dataframe tbody tr th {\n",
       "        vertical-align: top;\n",
       "    }\n",
       "\n",
       "    .dataframe thead tr th {\n",
       "        text-align: left;\n",
       "    }\n",
       "\n",
       "    .dataframe thead tr:last-of-type th {\n",
       "        text-align: right;\n",
       "    }\n",
       "</style>\n",
       "<table border=\"1\" class=\"dataframe\">\n",
       "  <thead>\n",
       "    <tr>\n",
       "      <th></th>\n",
       "      <th colspan=\"2\" halign=\"left\">result_position</th>\n",
       "    </tr>\n",
       "    <tr>\n",
       "      <th></th>\n",
       "      <th>mode</th>\n",
       "      <th>median</th>\n",
       "    </tr>\n",
       "    <tr>\n",
       "      <th>day</th>\n",
       "      <th></th>\n",
       "      <th></th>\n",
       "    </tr>\n",
       "  </thead>\n",
       "  <tbody>\n",
       "    <tr>\n",
       "      <th>2016-03-01</th>\n",
       "      <td>1.0</td>\n",
       "      <td>1.0</td>\n",
       "    </tr>\n",
       "    <tr>\n",
       "      <th>2016-03-02</th>\n",
       "      <td>1.0</td>\n",
       "      <td>1.0</td>\n",
       "    </tr>\n",
       "    <tr>\n",
       "      <th>2016-03-03</th>\n",
       "      <td>1.0</td>\n",
       "      <td>1.0</td>\n",
       "    </tr>\n",
       "    <tr>\n",
       "      <th>2016-03-04</th>\n",
       "      <td>1.0</td>\n",
       "      <td>1.0</td>\n",
       "    </tr>\n",
       "    <tr>\n",
       "      <th>2016-03-05</th>\n",
       "      <td>1.0</td>\n",
       "      <td>1.0</td>\n",
       "    </tr>\n",
       "    <tr>\n",
       "      <th>2016-03-06</th>\n",
       "      <td>1.0</td>\n",
       "      <td>1.0</td>\n",
       "    </tr>\n",
       "    <tr>\n",
       "      <th>2016-03-07</th>\n",
       "      <td>1.0</td>\n",
       "      <td>1.0</td>\n",
       "    </tr>\n",
       "    <tr>\n",
       "      <th>2016-03-08</th>\n",
       "      <td>1.0</td>\n",
       "      <td>1.0</td>\n",
       "    </tr>\n",
       "  </tbody>\n",
       "</table>\n",
       "</div>"
      ],
      "text/plain": [
       "           result_position       \n",
       "                      mode median\n",
       "day                              \n",
       "2016-03-01             1.0    1.0\n",
       "2016-03-02             1.0    1.0\n",
       "2016-03-03             1.0    1.0\n",
       "2016-03-04             1.0    1.0\n",
       "2016-03-05             1.0    1.0\n",
       "2016-03-06             1.0    1.0\n",
       "2016-03-07             1.0    1.0\n",
       "2016-03-08             1.0    1.0"
      ]
     },
     "execution_count": 43,
     "metadata": {},
     "output_type": "execute_result"
    }
   ],
   "source": [
    "first_visited_page = df[df[\"action\"] == \"visitPage\"].sort_values(by=[\"session_id\", \"timestamp\"]).groupby([\"session_id\", \"day\"]).first()[\"result_position\"].reset_index(level=1)\n",
    "first_visited_page.groupby(\"day\").agg([pd.Series.mode, \"median\"])"
   ]
  },
  {
   "cell_type": "markdown",
   "metadata": {},
   "source": [
    "### Which results do people tend to try first? \n",
    "* 99% of the sessions are under the 15th link.\n",
    "* 90% of the sessions which opens a link area under the 4th result. \n",
    "* The 1st result is the most visited (67% of the sessions) at the first try.\n",
    "\n",
    "### How does it change day-to-day?\n",
    "It does change between the days, the most common visited link (mode) at first try is the 1st link."
   ]
  },
  {
   "cell_type": "markdown",
   "metadata": {},
   "source": [
    "### 6. ZERO RESULTS RATE (ZRR)"
   ]
  },
  {
   "cell_type": "code",
   "execution_count": 44,
   "metadata": {},
   "outputs": [
    {
     "data": {
      "text/plain": [
       "0.18551309930620274"
      ]
     },
     "execution_count": 44,
     "metadata": {},
     "output_type": "execute_result"
    }
   ],
   "source": [
    "df_searches = df[(df[\"action\"] == \"searchResultPage\")]\n",
    "df_zero_results = df_searches[(df_searches[\"n_results\"] == 0)]\n",
    "len(df_zero_results)/len(df_searches)"
   ]
  },
  {
   "cell_type": "code",
   "execution_count": 45,
   "metadata": {},
   "outputs": [
    {
     "data": {
      "text/html": [
       "<style  type=\"text/css\" >\n",
       "</style><table id=\"T_da100_\" ><thead>    <tr>        <th class=\"blank level0\" ></th>        <th class=\"col_heading level0 col0\" >overall</th>        <th class=\"col_heading level0 col1\" >a</th>        <th class=\"col_heading level0 col2\" >b</th>        <th class=\"col_heading level0 col3\" >diff_a_vs_b</th>    </tr>    <tr>        <th class=\"index_name level0\" >day</th>        <th class=\"blank\" ></th>        <th class=\"blank\" ></th>        <th class=\"blank\" ></th>        <th class=\"blank\" ></th>    </tr></thead><tbody>\n",
       "                <tr>\n",
       "                        <th id=\"T_da100_level0_row0\" class=\"row_heading level0 row0\" >2016-03-01 00:00:00</th>\n",
       "                        <td id=\"T_da100_row0_col0\" class=\"data row0 col0\" >18.87%</td>\n",
       "                        <td id=\"T_da100_row0_col1\" class=\"data row0 col1\" >18.84%</td>\n",
       "                        <td id=\"T_da100_row0_col2\" class=\"data row0 col2\" >18.94%</td>\n",
       "                        <td id=\"T_da100_row0_col3\" class=\"data row0 col3\" >-0.10%</td>\n",
       "            </tr>\n",
       "            <tr>\n",
       "                        <th id=\"T_da100_level0_row1\" class=\"row_heading level0 row1\" >2016-03-02 00:00:00</th>\n",
       "                        <td id=\"T_da100_row1_col0\" class=\"data row1 col0\" >19.01%</td>\n",
       "                        <td id=\"T_da100_row1_col1\" class=\"data row1 col1\" >19.14%</td>\n",
       "                        <td id=\"T_da100_row1_col2\" class=\"data row1 col2\" >18.71%</td>\n",
       "                        <td id=\"T_da100_row1_col3\" class=\"data row1 col3\" >0.43%</td>\n",
       "            </tr>\n",
       "            <tr>\n",
       "                        <th id=\"T_da100_level0_row2\" class=\"row_heading level0 row2\" >2016-03-03 00:00:00</th>\n",
       "                        <td id=\"T_da100_row2_col0\" class=\"data row2 col0\" >18.10%</td>\n",
       "                        <td id=\"T_da100_row2_col1\" class=\"data row2 col1\" >18.04%</td>\n",
       "                        <td id=\"T_da100_row2_col2\" class=\"data row2 col2\" >18.24%</td>\n",
       "                        <td id=\"T_da100_row2_col3\" class=\"data row2 col3\" >-0.19%</td>\n",
       "            </tr>\n",
       "            <tr>\n",
       "                        <th id=\"T_da100_level0_row3\" class=\"row_heading level0 row3\" >2016-03-04 00:00:00</th>\n",
       "                        <td id=\"T_da100_row3_col0\" class=\"data row3 col0\" >18.39%</td>\n",
       "                        <td id=\"T_da100_row3_col1\" class=\"data row3 col1\" >18.76%</td>\n",
       "                        <td id=\"T_da100_row3_col2\" class=\"data row3 col2\" >17.62%</td>\n",
       "                        <td id=\"T_da100_row3_col3\" class=\"data row3 col3\" >1.15%</td>\n",
       "            </tr>\n",
       "            <tr>\n",
       "                        <th id=\"T_da100_level0_row4\" class=\"row_heading level0 row4\" >2016-03-05 00:00:00</th>\n",
       "                        <td id=\"T_da100_row4_col0\" class=\"data row4 col0\" >18.53%</td>\n",
       "                        <td id=\"T_da100_row4_col1\" class=\"data row4 col1\" >17.87%</td>\n",
       "                        <td id=\"T_da100_row4_col2\" class=\"data row4 col2\" >19.76%</td>\n",
       "                        <td id=\"T_da100_row4_col3\" class=\"data row4 col3\" >-1.89%</td>\n",
       "            </tr>\n",
       "            <tr>\n",
       "                        <th id=\"T_da100_level0_row5\" class=\"row_heading level0 row5\" >2016-03-06 00:00:00</th>\n",
       "                        <td id=\"T_da100_row5_col0\" class=\"data row5 col0\" >17.69%</td>\n",
       "                        <td id=\"T_da100_row5_col1\" class=\"data row5 col1\" >16.99%</td>\n",
       "                        <td id=\"T_da100_row5_col2\" class=\"data row5 col2\" >18.96%</td>\n",
       "                        <td id=\"T_da100_row5_col3\" class=\"data row5 col3\" >-1.97%</td>\n",
       "            </tr>\n",
       "            <tr>\n",
       "                        <th id=\"T_da100_level0_row6\" class=\"row_heading level0 row6\" >2016-03-07 00:00:00</th>\n",
       "                        <td id=\"T_da100_row6_col0\" class=\"data row6 col0\" >18.26%</td>\n",
       "                        <td id=\"T_da100_row6_col1\" class=\"data row6 col1\" >18.33%</td>\n",
       "                        <td id=\"T_da100_row6_col2\" class=\"data row6 col2\" >18.12%</td>\n",
       "                        <td id=\"T_da100_row6_col3\" class=\"data row6 col3\" >0.21%</td>\n",
       "            </tr>\n",
       "            <tr>\n",
       "                        <th id=\"T_da100_level0_row7\" class=\"row_heading level0 row7\" >2016-03-08 00:00:00</th>\n",
       "                        <td id=\"T_da100_row7_col0\" class=\"data row7 col0\" >19.48%</td>\n",
       "                        <td id=\"T_da100_row7_col1\" class=\"data row7 col1\" >19.77%</td>\n",
       "                        <td id=\"T_da100_row7_col2\" class=\"data row7 col2\" >18.89%</td>\n",
       "                        <td id=\"T_da100_row7_col3\" class=\"data row7 col3\" >0.88%</td>\n",
       "            </tr>\n",
       "    </tbody></table>"
      ],
      "text/plain": [
       "<pandas.io.formats.style.Styler at 0x7f70488dfd90>"
      ]
     },
     "metadata": {},
     "output_type": "display_data"
    },
    {
     "data": {
      "image/png": "[encoded data removed]",
      "text/plain": [
       "<Figure size 1440x360 with 1 Axes>"
      ]
     },
     "metadata": {
      "needs_background": "light"
     },
     "output_type": "display_data"
    }
   ],
   "source": [
    "def daily_zrr(df):\n",
    "    df_searches = df[(df[\"action\"] == \"searchResultPage\")]\n",
    "    zero_results_daily = df_searches[(df_searches[\"n_results\"] == 0)].groupby(\"day\")[\"action\"].count()\n",
    "    search_daily = df_searches.groupby(\"day\")[\"action\"].count()\n",
    "    zrr_daily = (zero_results_daily/search_daily)\n",
    "    return zrr_daily\n",
    "\n",
    "zrr_daily = daily_zrr(df)\n",
    "zrr_daily_a = daily_zrr(df[df[\"group\"]==\"a\"])\n",
    "zrr_daily_b = daily_zrr(df[df[\"group\"]==\"b\"])\n",
    "\n",
    "df_zrr = zrr_daily.to_frame()\n",
    "df_zrr.columns = [\"overall\"]\n",
    "df_zrr[\"a\"] = pd.DataFrame(zrr_daily_a)\n",
    "df_zrr[\"b\"] = pd.DataFrame(zrr_daily_b)\n",
    "df_zrr[\"diff_a_vs_b\"] = df_zrr[\"a\"] - df_zrr[\"b\"]\n",
    "\n",
    "display(pct_style(df_zrr, df_zrr.columns))\n",
    "ax = df_zrr[[\"overall\", \"a\", \"b\"]].plot(color=COLORS, marker=\"o\", markeredgecolor=\"black\",markerfacecolor=\"w\")\n",
    "plt.ylim((0, 0.4))\n",
    "plt.show()"
   ]
  },
  {
   "cell_type": "code",
   "execution_count": 46,
   "metadata": {},
   "outputs": [
    {
     "name": "stdout",
     "output_type": "stream",
     "text": [
      "MEAN DAILY ZRR\n"
     ]
    },
    {
     "data": {
      "text/html": [
       "<style  type=\"text/css\" >\n",
       "</style><table id=\"T_b3ceb_\" ><thead>    <tr>        <th class=\"blank level0\" ></th>        <th class=\"col_heading level0 col0\" >mean daily ZRR</th>    </tr></thead><tbody>\n",
       "                <tr>\n",
       "                        <th id=\"T_b3ceb_level0_row0\" class=\"row_heading level0 row0\" >overall</th>\n",
       "                        <td id=\"T_b3ceb_row0_col0\" class=\"data row0 col0\" >18.54%</td>\n",
       "            </tr>\n",
       "            <tr>\n",
       "                        <th id=\"T_b3ceb_level0_row1\" class=\"row_heading level0 row1\" >a</th>\n",
       "                        <td id=\"T_b3ceb_row1_col0\" class=\"data row1 col0\" >18.47%</td>\n",
       "            </tr>\n",
       "            <tr>\n",
       "                        <th id=\"T_b3ceb_level0_row2\" class=\"row_heading level0 row2\" >b</th>\n",
       "                        <td id=\"T_b3ceb_row2_col0\" class=\"data row2 col0\" >18.65%</td>\n",
       "            </tr>\n",
       "            <tr>\n",
       "                        <th id=\"T_b3ceb_level0_row3\" class=\"row_heading level0 row3\" >diff_a_vs_b</th>\n",
       "                        <td id=\"T_b3ceb_row3_col0\" class=\"data row3 col0\" >-0.19%</td>\n",
       "            </tr>\n",
       "    </tbody></table>"
      ],
      "text/plain": [
       "<pandas.io.formats.style.Styler at 0x7f7048842dd0>"
      ]
     },
     "metadata": {},
     "output_type": "display_data"
    },
    {
     "data": {
      "image/png": "[encoded data removed]",
      "text/plain": [
       "<Figure size 1440x360 with 1 Axes>"
      ]
     },
     "metadata": {
      "needs_background": "light"
     },
     "output_type": "display_data"
    }
   ],
   "source": [
    "print(\"MEAN DAILY ZRR\")\n",
    "df_zrr_mean = df_zrr.mean() \n",
    "df_zrr_mean.name = \"mean daily ZRR\"\n",
    "df_zrr_mean = df_zrr_mean.to_frame()\n",
    "display(pct_style(df_zrr_mean, df_zrr_mean.columns))\n",
    "ax = (df_zrr_mean[\"mean daily ZRR\"].iloc[:3]*100).plot(kind=\"barh\", color=COLORS, rot=0)\n",
    "ax.xaxis.set_major_formatter(mtick.PercentFormatter())\n",
    "plt.show()"
   ]
  },
  {
   "cell_type": "markdown",
   "metadata": {},
   "source": [
    "### What is our daily overall zero results rate?\n",
    "The mean daily overall ZRR is 18.54%.\n",
    "### How does it vary between the groups?\n",
    "Is prety similar for the 2 groups, meaning that our new feature is not affecting this metric. The diference between the two ZRR is very low (less than 1%) as well, suporting our conclusions."
   ]
  },
  {
   "cell_type": "markdown",
   "metadata": {},
   "source": [
    "### SESSION LENGHT vs USER GROUP\n",
    "\n",
    "* QUESTION: is the length of your session affected by your group?\n",
    "\n",
    "* NULL HYPOTHESIS: the session length is not affected by the user group.\n",
    "\n",
    "* ALTERNATIVE HYPOTHESIS: the session length is affected by the user group."
   ]
  },
  {
   "cell_type": "code",
   "execution_count": 47,
   "metadata": {},
   "outputs": [
    {
     "data": {
      "text/html": [
       "<div>\n",
       "<style scoped>\n",
       "    .dataframe tbody tr th:only-of-type {\n",
       "        vertical-align: middle;\n",
       "    }\n",
       "\n",
       "    .dataframe tbody tr th {\n",
       "        vertical-align: top;\n",
       "    }\n",
       "\n",
       "    .dataframe thead th {\n",
       "        text-align: right;\n",
       "    }\n",
       "</style>\n",
       "<table border=\"1\" class=\"dataframe\">\n",
       "  <thead>\n",
       "    <tr style=\"text-align: right;\">\n",
       "      <th></th>\n",
       "      <th>seconds</th>\n",
       "      <th>group</th>\n",
       "    </tr>\n",
       "    <tr>\n",
       "      <th>session_id</th>\n",
       "      <th></th>\n",
       "      <th></th>\n",
       "    </tr>\n",
       "  </thead>\n",
       "  <tbody>\n",
       "    <tr>\n",
       "      <th>0000cbcb67c19c45</th>\n",
       "      <td>0</td>\n",
       "      <td>b</td>\n",
       "    </tr>\n",
       "    <tr>\n",
       "      <th>0001382e027b2ea4</th>\n",
       "      <td>303</td>\n",
       "      <td>b</td>\n",
       "    </tr>\n",
       "    <tr>\n",
       "      <th>0001e8bb90445cb2</th>\n",
       "      <td>435</td>\n",
       "      <td>b</td>\n",
       "    </tr>\n",
       "    <tr>\n",
       "      <th>000216cf18ae1ab1</th>\n",
       "      <td>58</td>\n",
       "      <td>a</td>\n",
       "    </tr>\n",
       "    <tr>\n",
       "      <th>000527f711d50dfc</th>\n",
       "      <td>0</td>\n",
       "      <td>b</td>\n",
       "    </tr>\n",
       "  </tbody>\n",
       "</table>\n",
       "</div>"
      ],
      "text/plain": [
       "                  seconds group\n",
       "session_id                     \n",
       "0000cbcb67c19c45        0     b\n",
       "0001382e027b2ea4      303     b\n",
       "0001e8bb90445cb2      435     b\n",
       "000216cf18ae1ab1       58     a\n",
       "000527f711d50dfc        0     b"
      ]
     },
     "execution_count": 47,
     "metadata": {},
     "output_type": "execute_result"
    }
   ],
   "source": [
    "grouper = df.groupby(\"session_id\")\n",
    "session_group_mapper = grouper[\"group\"].first().to_dict()\n",
    "\n",
    "session_length = grouper[\"timestamp\"].agg([min, max])\n",
    "session_length = (session_length[\"max\"] - session_length[\"min\"]).dt.seconds\n",
    "\n",
    "session_length.name = \"seconds\"\n",
    "session_length = session_length.to_frame()\n",
    "session_length[\"group\"] = session_length.index.map(session_group_mapper)\n",
    "\n",
    "session_length.head(5)"
   ]
  },
  {
   "cell_type": "code",
   "execution_count": 48,
   "metadata": {},
   "outputs": [
    {
     "data": {
      "image/png": "[encoded data removed]",
      "text/plain": [
       "<Figure size 1440x360 with 1 Axes>"
      ]
     },
     "metadata": {
      "needs_background": "light"
     },
     "output_type": "display_data"
    }
   ],
   "source": [
    "session_length.hist(bins=100, color=NEUTRAL_COLOR)\n",
    "plt.show()"
   ]
  },
  {
   "cell_type": "markdown",
   "metadata": {},
   "source": [
    "\n",
    "Postive skewed distribution with a very high presence of zeros. Let's group together the rare higher values (quantile 99%).\n"
   ]
  },
  {
   "cell_type": "code",
   "execution_count": 49,
   "metadata": {},
   "outputs": [
    {
     "name": "stdout",
     "output_type": "stream",
     "text": [
      "Sessions longer than 17.8 minutes are extremily rares\n"
     ]
    },
    {
     "data": {
      "image/png": "[encoded data removed]",
      "text/plain": [
       "<Figure size 1440x360 with 1 Axes>"
      ]
     },
     "metadata": {
      "needs_background": "light"
     },
     "output_type": "display_data"
    }
   ],
   "source": [
    "upper_threshold = session_length[\"seconds\"].quantile(0.99)\n",
    "print(f\"Sessions longer than {upper_threshold/60} minutes are extremily rares\")\n",
    "session_length.loc[session_length[\"seconds\"] > upper_threshold, \"seconds\"] = upper_threshold\n",
    "session_length.hist(bins=50, color=NEUTRAL_COLOR)\n",
    "plt.show()"
   ]
  },
  {
   "cell_type": "code",
   "execution_count": 50,
   "metadata": {},
   "outputs": [
    {
     "data": {
      "text/html": [
       "<div>\n",
       "<style scoped>\n",
       "    .dataframe tbody tr th:only-of-type {\n",
       "        vertical-align: middle;\n",
       "    }\n",
       "\n",
       "    .dataframe tbody tr th {\n",
       "        vertical-align: top;\n",
       "    }\n",
       "\n",
       "    .dataframe thead th {\n",
       "        text-align: right;\n",
       "    }\n",
       "</style>\n",
       "<table border=\"1\" class=\"dataframe\">\n",
       "  <thead>\n",
       "    <tr style=\"text-align: right;\">\n",
       "      <th>group</th>\n",
       "      <th>a</th>\n",
       "      <th>b</th>\n",
       "    </tr>\n",
       "  </thead>\n",
       "  <tbody>\n",
       "    <tr>\n",
       "      <th>count</th>\n",
       "      <td>29334.0</td>\n",
       "      <td>38593.0</td>\n",
       "    </tr>\n",
       "    <tr>\n",
       "      <th>mean</th>\n",
       "      <td>225.0</td>\n",
       "      <td>40.0</td>\n",
       "    </tr>\n",
       "    <tr>\n",
       "      <th>std</th>\n",
       "      <td>253.0</td>\n",
       "      <td>114.0</td>\n",
       "    </tr>\n",
       "    <tr>\n",
       "      <th>min</th>\n",
       "      <td>1.0</td>\n",
       "      <td>0.0</td>\n",
       "    </tr>\n",
       "    <tr>\n",
       "      <th>25%</th>\n",
       "      <td>33.0</td>\n",
       "      <td>0.0</td>\n",
       "    </tr>\n",
       "    <tr>\n",
       "      <th>50%</th>\n",
       "      <td>112.0</td>\n",
       "      <td>0.0</td>\n",
       "    </tr>\n",
       "    <tr>\n",
       "      <th>75%</th>\n",
       "      <td>405.0</td>\n",
       "      <td>7.0</td>\n",
       "    </tr>\n",
       "    <tr>\n",
       "      <th>max</th>\n",
       "      <td>1068.0</td>\n",
       "      <td>1068.0</td>\n",
       "    </tr>\n",
       "  </tbody>\n",
       "</table>\n",
       "</div>"
      ],
      "text/plain": [
       "group        a        b\n",
       "count  29334.0  38593.0\n",
       "mean     225.0     40.0\n",
       "std      253.0    114.0\n",
       "min        1.0      0.0\n",
       "25%       33.0      0.0\n",
       "50%      112.0      0.0\n",
       "75%      405.0      7.0\n",
       "max     1068.0   1068.0"
      ]
     },
     "metadata": {},
     "output_type": "display_data"
    },
    {
     "name": "stdout",
     "output_type": "stream",
     "text": [
      "Difference Mean Session Length: 185\n"
     ]
    },
    {
     "data": {
      "image/png": "[encoded data removed]",
      "text/plain": [
       "<Figure size 1440x360 with 1 Axes>"
      ]
     },
     "metadata": {
      "needs_background": "light"
     },
     "output_type": "display_data"
    }
   ],
   "source": [
    "display(session_length.groupby(\"group\")[\"seconds\"].describe().T.round())\n",
    "df_mean = session_length.groupby(\"group\")[\"seconds\"].mean()\n",
    "print(\"Difference Mean Session Length:\", round(df_mean[\"a\"] - df_mean[\"b\"]))\n",
    "sns.boxplot(data=session_length, y=\"group\", x=\"seconds\",  palette=[B_COLOR, A_COLOR])\n",
    "plt.show()"
   ]
  },
  {
   "cell_type": "markdown",
   "metadata": {},
   "source": [
    "At this point is clear that session length is affected by the user group.\n",
    "\n",
    "**On average, A users will spend 185 seconds more than a B user .**\n",
    "\n",
    "Let's explore what happens with zero length sessions."
   ]
  },
  {
   "cell_type": "code",
   "execution_count": 51,
   "metadata": {},
   "outputs": [
    {
     "data": {
      "text/html": [
       "<style  type=\"text/css\" >\n",
       "</style><table id=\"T_995ff_\" ><thead>    <tr>        <th class=\"blank level0\" ></th>        <th class=\"col_heading level0 col0\" >has_zero_length</th>        <th class=\"col_heading level0 col1\" >%</th>    </tr>    <tr>        <th class=\"index_name level0\" >group</th>        <th class=\"blank\" ></th>        <th class=\"blank\" ></th>    </tr></thead><tbody>\n",
       "                <tr>\n",
       "                        <th id=\"T_995ff_level0_row0\" class=\"row_heading level0 row0\" >b</th>\n",
       "                        <td id=\"T_995ff_row0_col0\" class=\"data row0 col0\" >27617</td>\n",
       "                        <td id=\"T_995ff_row0_col1\" class=\"data row0 col1\" >71.56%</td>\n",
       "            </tr>\n",
       "            <tr>\n",
       "                        <th id=\"T_995ff_level0_row1\" class=\"row_heading level0 row1\" >a</th>\n",
       "                        <td id=\"T_995ff_row1_col0\" class=\"data row1 col0\" >0</td>\n",
       "                        <td id=\"T_995ff_row1_col1\" class=\"data row1 col1\" >0.00%</td>\n",
       "            </tr>\n",
       "    </tbody></table>"
      ],
      "text/plain": [
       "<pandas.io.formats.style.Styler at 0x7f7048b20190>"
      ]
     },
     "execution_count": 51,
     "metadata": {},
     "output_type": "execute_result"
    }
   ],
   "source": [
    "has_zero_length = (session_length[session_length[\"seconds\"] == 0].value_counts().droplevel(0))\n",
    "has_zero_length[\"a\"] = 0\n",
    "pct_abstract(has_zero_length,  session_length[\"group\"].value_counts(), name=\"has_zero_length\")"
   ]
  },
  {
   "cell_type": "markdown",
   "metadata": {},
   "source": [
    "**Is surprising that 72% of the group b sessions are only lasting zero seconds**, there are 2 possible scenarios:\n",
    "* Bad Results: is posible that 72% of B users dislikes the results page and leave the session?\n",
    "* Bug: on group B only first action is recorded so we lost track.\n",
    "\n",
    "For the sake of the analysis, zero seconds sessions are ignored on the next steps."
   ]
  },
  {
   "cell_type": "code",
   "execution_count": 52,
   "metadata": {},
   "outputs": [
    {
     "data": {
      "text/html": [
       "<div>\n",
       "<style scoped>\n",
       "    .dataframe tbody tr th:only-of-type {\n",
       "        vertical-align: middle;\n",
       "    }\n",
       "\n",
       "    .dataframe tbody tr th {\n",
       "        vertical-align: top;\n",
       "    }\n",
       "\n",
       "    .dataframe thead th {\n",
       "        text-align: right;\n",
       "    }\n",
       "</style>\n",
       "<table border=\"1\" class=\"dataframe\">\n",
       "  <thead>\n",
       "    <tr style=\"text-align: right;\">\n",
       "      <th>group</th>\n",
       "      <th>a</th>\n",
       "      <th>b</th>\n",
       "    </tr>\n",
       "  </thead>\n",
       "  <tbody>\n",
       "    <tr>\n",
       "      <th>count</th>\n",
       "      <td>29334.0</td>\n",
       "      <td>10976.0</td>\n",
       "    </tr>\n",
       "    <tr>\n",
       "      <th>mean</th>\n",
       "      <td>225.0</td>\n",
       "      <td>141.0</td>\n",
       "    </tr>\n",
       "    <tr>\n",
       "      <th>std</th>\n",
       "      <td>253.0</td>\n",
       "      <td>177.0</td>\n",
       "    </tr>\n",
       "    <tr>\n",
       "      <th>min</th>\n",
       "      <td>1.0</td>\n",
       "      <td>1.0</td>\n",
       "    </tr>\n",
       "    <tr>\n",
       "      <th>25%</th>\n",
       "      <td>33.0</td>\n",
       "      <td>14.0</td>\n",
       "    </tr>\n",
       "    <tr>\n",
       "      <th>50%</th>\n",
       "      <td>112.0</td>\n",
       "      <td>50.0</td>\n",
       "    </tr>\n",
       "    <tr>\n",
       "      <th>75%</th>\n",
       "      <td>405.0</td>\n",
       "      <td>234.0</td>\n",
       "    </tr>\n",
       "    <tr>\n",
       "      <th>max</th>\n",
       "      <td>1068.0</td>\n",
       "      <td>1068.0</td>\n",
       "    </tr>\n",
       "  </tbody>\n",
       "</table>\n",
       "</div>"
      ],
      "text/plain": [
       "group        a        b\n",
       "count  29334.0  10976.0\n",
       "mean     225.0    141.0\n",
       "std      253.0    177.0\n",
       "min        1.0      1.0\n",
       "25%       33.0     14.0\n",
       "50%      112.0     50.0\n",
       "75%      405.0    234.0\n",
       "max     1068.0   1068.0"
      ]
     },
     "metadata": {},
     "output_type": "display_data"
    },
    {
     "name": "stdout",
     "output_type": "stream",
     "text": [
      "Difference Mean Session Length: 84\n"
     ]
    },
    {
     "data": {
      "image/png": "[encoded data removed]",
      "text/plain": [
       "<Figure size 1440x360 with 1 Axes>"
      ]
     },
     "metadata": {
      "needs_background": "light"
     },
     "output_type": "display_data"
    }
   ],
   "source": [
    "no_zero_session_length = session_length[session_length[\"seconds\"] != 0]\n",
    "\n",
    "display(no_zero_session_length.groupby(\"group\")[\"seconds\"].describe().T.round())\n",
    "df_mean = no_zero_session_length.groupby(\"group\")[\"seconds\"].mean()\n",
    "print(\"Difference Mean Session Length:\", round(df_mean[\"a\"] - df_mean[\"b\"]))\n",
    "sns.boxplot(data=no_zero_session_length, y=\"group\", x=\"seconds\", palette=[B_COLOR, A_COLOR])\n",
    "plt.show()"
   ]
  },
  {
   "cell_type": "markdown",
   "metadata": {},
   "source": [
    "Eventhough we remove zero sessions from group B, the session will be longer for A users.\n",
    "\n",
    "**Removing zero seconds sessions, A users will spend 84 seconds more than a B user on average.**"
   ]
  }
 ],
 "metadata": {
  "kernelspec": {
   "display_name": "Python 3",
   "language": "python",
   "name": "python3"
  },
  "language_info": {
   "codemirror_mode": {
    "name": "ipython",
    "version": 3
   },
   "file_extension": ".py",
   "mimetype": "text/x-python",
   "name": "python",
   "nbconvert_exporter": "python",
   "pygments_lexer": "ipython3",
   "version": "3.7.12"
  }
 },
 "nbformat": 4,
 "nbformat_minor": 4
}
